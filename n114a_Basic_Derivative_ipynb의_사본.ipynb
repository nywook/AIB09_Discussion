{
  "nbformat": 4,
  "nbformat_minor": 0,
  "metadata": {
    "colab": {
      "name": "n114a-Basic Derivative.ipynb의 사본",
      "provenance": [],
      "collapsed_sections": [],
      "include_colab_link": true
    },
    "kernelspec": {
      "display_name": "Python 3",
      "language": "python",
      "name": "python3"
    },
    "language_info": {
      "codemirror_mode": {
        "name": "ipython",
        "version": 3
      },
      "file_extension": ".py",
      "mimetype": "text/x-python",
      "name": "python",
      "nbconvert_exporter": "python",
      "pygments_lexer": "ipython3",
      "version": "3.9.4"
    }
  },
  "cells": [
    {
      "cell_type": "markdown",
      "metadata": {
        "id": "view-in-github",
        "colab_type": "text"
      },
      "source": [
        "<a href=\"https://colab.research.google.com/github/nywook/AIB09_Discussion/blob/master/n114a_Basic_Derivative_ipynb%EC%9D%98_%EC%82%AC%EB%B3%B8.ipynb\" target=\"_parent\"><img src=\"https://colab.research.google.com/assets/colab-badge.svg\" alt=\"Open In Colab\"/></a>"
      ]
    },
    {
      "cell_type": "markdown",
      "metadata": {
        "id": "G5hwlPlsGega"
      },
      "source": [
        "<img src='https://i.imgur.com/RDAD11M.png' width = '200' align = 'right'>\n",
        "\n",
        "## *DATA SCIENCE / SECTION 1 / SPRINT 1 / NOTE 4*\n",
        "\n",
        "---\n",
        "\n",
        "# 📝 Assignment\n",
        "\n"
      ]
    },
    {
      "cell_type": "markdown",
      "metadata": {
        "id": "Lmp81-8WmDms"
      },
      "source": [
        "## 1. Dataset 불러오기\n",
        "> seaborn 라이브러리의 load_dataset()을 활용해서 iris 데이터셋을 데이터프레임으로 불러옵니다. 데이터프레임의 이름은 df_iris로 합니다. <br>\n",
        "> df_iris의 shape의 **첫번째 값을 두번째 값으로 나눈 값**을 `res1`에 저장하세요"
      ]
    },
    {
      "cell_type": "code",
      "metadata": {
        "id": "oyJH-T1ImDmu",
        "colab": {
          "base_uri": "https://localhost:8080/"
        },
        "outputId": "247df639-0731-4304-f20f-0cd3d78e2e96"
      },
      "source": [
        "import pandas as pd\n",
        "import seaborn as sns\n",
        "import numpy as np\n",
        "\n",
        "np.random.seed(42)\n",
        "df_iris = sns.load_dataset('iris')  #iris 데이터셋을 로드\n",
        "\n",
        "\n",
        "\n",
        "df_iris.shape #shape을 구한다\n",
        "\n",
        "rest1 = int(df_iris.shape[0] / df_iris.shape[1])  #첫번째 값을 두번째값으로 나눈다\n",
        "rest1"
      ],
      "execution_count": 168,
      "outputs": [
        {
          "output_type": "execute_result",
          "data": {
            "text/plain": [
              "30"
            ]
          },
          "metadata": {},
          "execution_count": 168
        }
      ]
    },
    {
      "cell_type": "code",
      "metadata": {
        "id": "Mys7S9T2tlfO"
      },
      "source": [
        "sns.get_dataset_names() #seaborn 데이터셋 목록"
      ],
      "execution_count": null,
      "outputs": []
    },
    {
      "cell_type": "markdown",
      "metadata": {
        "id": "8kqTxCF7mDmx"
      },
      "source": [
        "## 2. X 구하기\n",
        "> df_iris에서 sepal_length만 남겨주세요. 그리고 sepal_length 칼럼의 이름은 x로 바꿉니다"
      ]
    },
    {
      "cell_type": "code",
      "metadata": {
        "id": "cx4aO1b4mDm0",
        "colab": {
          "base_uri": "https://localhost:8080/",
          "height": 417
        },
        "outputId": "c6bedf38-a12a-4231-8f10-c8dd8bd4b1e9"
      },
      "source": [
        "df_iris = df_iris[[\"sepal_length\"]]  \n",
        "df_iris = df_iris.rename(columns = {'sepal_length':'x'})  #df_ls = df_ls.rename(columns = {'sepal_length':'x'}, inplace=True)\n",
        "\n",
        "df_iris"
      ],
      "execution_count": 169,
      "outputs": [
        {
          "output_type": "execute_result",
          "data": {
            "text/html": [
              "<div>\n",
              "<style scoped>\n",
              "    .dataframe tbody tr th:only-of-type {\n",
              "        vertical-align: middle;\n",
              "    }\n",
              "\n",
              "    .dataframe tbody tr th {\n",
              "        vertical-align: top;\n",
              "    }\n",
              "\n",
              "    .dataframe thead th {\n",
              "        text-align: right;\n",
              "    }\n",
              "</style>\n",
              "<table border=\"1\" class=\"dataframe\">\n",
              "  <thead>\n",
              "    <tr style=\"text-align: right;\">\n",
              "      <th></th>\n",
              "      <th>x</th>\n",
              "    </tr>\n",
              "  </thead>\n",
              "  <tbody>\n",
              "    <tr>\n",
              "      <th>0</th>\n",
              "      <td>5.1</td>\n",
              "    </tr>\n",
              "    <tr>\n",
              "      <th>1</th>\n",
              "      <td>4.9</td>\n",
              "    </tr>\n",
              "    <tr>\n",
              "      <th>2</th>\n",
              "      <td>4.7</td>\n",
              "    </tr>\n",
              "    <tr>\n",
              "      <th>3</th>\n",
              "      <td>4.6</td>\n",
              "    </tr>\n",
              "    <tr>\n",
              "      <th>4</th>\n",
              "      <td>5.0</td>\n",
              "    </tr>\n",
              "    <tr>\n",
              "      <th>...</th>\n",
              "      <td>...</td>\n",
              "    </tr>\n",
              "    <tr>\n",
              "      <th>145</th>\n",
              "      <td>6.7</td>\n",
              "    </tr>\n",
              "    <tr>\n",
              "      <th>146</th>\n",
              "      <td>6.3</td>\n",
              "    </tr>\n",
              "    <tr>\n",
              "      <th>147</th>\n",
              "      <td>6.5</td>\n",
              "    </tr>\n",
              "    <tr>\n",
              "      <th>148</th>\n",
              "      <td>6.2</td>\n",
              "    </tr>\n",
              "    <tr>\n",
              "      <th>149</th>\n",
              "      <td>5.9</td>\n",
              "    </tr>\n",
              "  </tbody>\n",
              "</table>\n",
              "<p>150 rows × 1 columns</p>\n",
              "</div>"
            ],
            "text/plain": [
              "       x\n",
              "0    5.1\n",
              "1    4.9\n",
              "2    4.7\n",
              "3    4.6\n",
              "4    5.0\n",
              "..   ...\n",
              "145  6.7\n",
              "146  6.3\n",
              "147  6.5\n",
              "148  6.2\n",
              "149  5.9\n",
              "\n",
              "[150 rows x 1 columns]"
            ]
          },
          "metadata": {},
          "execution_count": 169
        }
      ]
    },
    {
      "cell_type": "markdown",
      "metadata": {
        "id": "az0kx_sxHYri"
      },
      "source": [
        "3. 기초 미분\n",
        "\n",
        "다음 함수를 미분한 도함수를 구한 후에 num_one 함수를 완성하세요. \n",
        "$f(x) = 4x^5 + 9x^3 + ex^2 - 7$\n",
        "\n",
        "- num_one 함수를 x에 적용한 후에 **derivative_one**이라는 칼럼으로 df_iris에 저장합니다. (Hint : df.apply)\n",
        "- derivative_one 칼럼의 합을 `res2`에 저장합니다 (소수점 세자리까지)"
      ]
    },
    {
      "cell_type": "code",
      "metadata": {
        "id": "J5ha7GquLbCo",
        "colab": {
          "base_uri": "https://localhost:8080/"
        },
        "outputId": "f6b0c2fb-d71f-4a71-eef9-9624eb1884eb"
      },
      "source": [
        "import math\n",
        "\n",
        "def num_one(x):\n",
        "    fx = 20*(x**4) + 27*(x**2) + 2*math.exp(1)*x\n",
        "    return fx\n",
        "\n",
        "df_iris[\"derivative_one\"] = df_iris[\"x\"].apply(num_one)\n",
        "\n",
        "res2 = round(df_iris[\"derivative_one\"].sum(),3)\n",
        "res2"
      ],
      "execution_count": null,
      "outputs": [
        {
          "output_type": "execute_result",
          "data": {
            "text/plain": [
              "4077643.108"
            ]
          },
          "metadata": {},
          "execution_count": 121
        }
      ]
    },
    {
      "cell_type": "markdown",
      "metadata": {
        "id": "5OXzXmfYmDm4"
      },
      "source": [
        "- 이번에는 scipy의 [derivative](https://docs.scipy.org/doc/scipy/reference/generated/scipy.misc.derivative.html)를 활용하여 **derivative_two** 칼럼으로 저장하세요.\n",
        "  - dx는 1e-7로 설정합니다.\n",
        "- derivative_two 칼럼의 합을 `res3`에 저장합니다 (소수점 세자리까지)"
      ]
    },
    {
      "cell_type": "code",
      "metadata": {
        "id": "KAnFz2njmDm7",
        "colab": {
          "base_uri": "https://localhost:8080/"
        },
        "outputId": "329771df-0634-4fe8-cfb7-eeb0159b58b3"
      },
      "source": [
        "from scipy.misc import derivative\n",
        "\n",
        "def f(x):\n",
        "    fx = 4*(x**5) + 9*(x**3) + math.exp(1)*(x**2) - 7\n",
        "    return fx\n",
        "\n",
        "def num_two(x) :\n",
        "    fx = derivative(f, x, dx=1e-7)\n",
        "    return fx\n",
        "\n",
        "df_iris[\"derivative_two\"] = df_iris[\"x\"].apply(num_two)\n",
        "\n",
        "res3 = round(df_iris[\"derivative_two\"].sum(), 3)\n",
        "res3"
      ],
      "execution_count": null,
      "outputs": [
        {
          "output_type": "execute_result",
          "data": {
            "text/plain": [
              "4077643.121"
            ]
          },
          "metadata": {},
          "execution_count": 127
        }
      ]
    },
    {
      "cell_type": "markdown",
      "metadata": {
        "id": "U9KQrjt3I66h"
      },
      "source": [
        "## 4. 미분 연습\n",
        "\n",
        ">아래 함수들의 도함수를 작성해주세요."
      ]
    },
    {
      "cell_type": "markdown",
      "metadata": {
        "id": "7BaPFg74mDnC"
      },
      "source": [
        " $f(x) = e^x$ "
      ]
    },
    {
      "cell_type": "code",
      "metadata": {
        "id": "r1p8Ms-TmDnF",
        "colab": {
          "base_uri": "https://localhost:8080/"
        },
        "outputId": "e6d2b445-455f-4196-9614-cce562a3275f"
      },
      "source": [
        "def e_prime(x):\n",
        "  return np.exp(x)\n",
        "\n",
        "res4 = e_prime(5)\n",
        "int(res4)"
      ],
      "execution_count": 158,
      "outputs": [
        {
          "output_type": "execute_result",
          "data": {
            "text/plain": [
              "148"
            ]
          },
          "metadata": {},
          "execution_count": 158
        }
      ]
    },
    {
      "cell_type": "markdown",
      "metadata": {
        "id": "vnPp_nKxmDnG"
      },
      "source": [
        "$f(x) = lnx$"
      ]
    },
    {
      "cell_type": "code",
      "metadata": {
        "id": "IZSdJh9omDnH",
        "colab": {
          "base_uri": "https://localhost:8080/"
        },
        "outputId": "6f091e6a-6538-43b1-bd82-c03eff35f65b"
      },
      "source": [
        "def ln_prime(x):\n",
        "    return 1/x  \n",
        "\n",
        "\n",
        "res5 = ln_prime(5)\n",
        "res5"
      ],
      "execution_count": 160,
      "outputs": [
        {
          "output_type": "execute_result",
          "data": {
            "text/plain": [
              "0.2"
            ]
          },
          "metadata": {},
          "execution_count": 160
        }
      ]
    },
    {
      "cell_type": "markdown",
      "metadata": {
        "id": "9vz1luiimDnH"
      },
      "source": [
        "$f(x) = Sin(2x)$"
      ]
    },
    {
      "cell_type": "code",
      "metadata": {
        "id": "0nJV4rJbmDnI",
        "colab": {
          "base_uri": "https://localhost:8080/"
        },
        "outputId": "6efc436c-4bc2-4cff-fcb8-011fa8c10879"
      },
      "source": [
        "def sine_prime(x):\n",
        "    return 2*math.cos(2*x)\n",
        "\n",
        "res6 = sine_prime(5)\n",
        "round(res6,2)"
      ],
      "execution_count": 162,
      "outputs": [
        {
          "output_type": "execute_result",
          "data": {
            "text/plain": [
              "-1.68"
            ]
          },
          "metadata": {},
          "execution_count": 162
        }
      ]
    },
    {
      "cell_type": "markdown",
      "metadata": {
        "id": "tFaBXc2HmDnJ"
      },
      "source": [
        "$f(x) = (2x^2 + 8x)^2$"
      ]
    },
    {
      "cell_type": "code",
      "metadata": {
        "id": "SjPjrKP6mDnJ",
        "colab": {
          "base_uri": "https://localhost:8080/"
        },
        "outputId": "29ec4873-e2d2-4204-c356-453ddc3b13b5"
      },
      "source": [
        "def f_prime(x):\n",
        "    return 2*(2*(x**2)+(8*x))*((4*x)+8)\n",
        "\n",
        "res7 = f_prime(5)\n",
        "res7"
      ],
      "execution_count": 165,
      "outputs": [
        {
          "output_type": "execute_result",
          "data": {
            "text/plain": [
              "5040"
            ]
          },
          "metadata": {},
          "execution_count": 165
        }
      ]
    },
    {
      "cell_type": "markdown",
      "metadata": {
        "id": "yKehJVDsJQNg"
      },
      "source": [
        "## 5. 편미분\n",
        "\n",
        "주어진 `machine learning model`의 `error function` ($\\varepsilon$)이 다음과 같을 때 `error function`을 **최소화** 하는 최적의 `parameter`들을  구하세요. 그 후 결과를 각각 `p1`, `p2`에 저장하세요.\n",
        "\n",
        "$\\varepsilon(p_1, p_2) = (e \\cdot p_1 - p_2)^2 + {{k_2} \\over { 2 }} \\cdot p_2 $ \n",
        "\n",
        "$k_2 = 100$\n",
        "\n",
        "- 단 최적의 $p_1$은 $p_2$가 $3$일때, 최적의 $p_2$는 $p_1$이 $10$일때를 기준으로 합니다."
      ]
    },
    {
      "cell_type": "code",
      "metadata": {
        "id": "TlA7rqlnK2V8",
        "colab": {
          "base_uri": "https://localhost:8080/"
        },
        "outputId": "1fc91c83-2964-4d61-e988-bf0c6bbbabd6"
      },
      "source": [
        "p1 = 1/math.exp(1)\n",
        "p2 = (20*math.exp(1) - 50)/2\n",
        "print(p1, p2)"
      ],
      "execution_count": null,
      "outputs": [
        {
          "output_type": "stream",
          "name": "stdout",
          "text": [
            "0.36787944117144233 2.18281828459045\n"
          ]
        }
      ]
    },
    {
      "cell_type": "markdown",
      "metadata": {
        "id": "ksW7uwOzL-eY"
      },
      "source": [
        "## 🔥 도전과제 "
      ]
    },
    {
      "cell_type": "markdown",
      "metadata": {
        "id": "MltjgTsvMZmv"
      },
      "source": [
        "### 다음 함수를 미분하세요. 이후에 x = 3일 때의 결과를 `challenge`에 저장하세요.  \n",
        "$\\sigma(x) = {{1} \\over {1 + e^-x}}$. "
      ]
    },
    {
      "cell_type": "code",
      "metadata": {
        "id": "dQpySn3KmDnN"
      },
      "source": [
        "def sig_prime(x):\n",
        "    return None # 이곳에 답안을 작성하세요."
      ],
      "execution_count": null,
      "outputs": []
    }
  ]
}