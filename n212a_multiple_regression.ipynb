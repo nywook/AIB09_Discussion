{
  "cells": [
    {
      "cell_type": "markdown",
      "metadata": {
        "id": "view-in-github",
        "colab_type": "text"
      },
      "source": [
        "<a href=\"https://colab.research.google.com/github/nywook/AIB09_Discussion/blob/master/n212a_multiple_regression.ipynb\" target=\"_parent\"><img src=\"https://colab.research.google.com/assets/colab-badge.svg\" alt=\"Open In Colab\"/></a>"
      ]
    },
    {
      "cell_type": "markdown",
      "source": [
        "<img align=\"right\" src=\"https://ds-cs-images.s3.ap-northeast-2.amazonaws.com/Codestates_Fulllogo_Color.png\" width=100>\n",
        "\n",
        "## *AIB / SECTION 2 / SPRINT 1 / NOTE 2*\n",
        "\n",
        "# 📝 Assignment\n",
        "---"
      ],
      "metadata": {
        "id": "lR5AuAP2WQLU"
      }
    },
    {
      "cell_type": "markdown",
      "source": [
        "# 다중선형회귀(Multiple Linear Regression)\n",
        "\n",
        "이번 과제에서도 n211 과제 에서 다루었던 housing price dataset을 가지고 배운 내용을 연습해 보겠습니다.\n",
        "다음 링크에서 다운로드 받아 사용해 주세요. [House Sales in King County, USA](https://www.kaggle.com/harlfoxem/housesalesprediction)"
      ],
      "metadata": {
        "id": "7IXUfiQ2UKj6"
      }
    },
    {
      "cell_type": "code",
      "execution_count": 2,
      "source": [
        "# 데이터는 캐글에서 받으셔도 되고 이 링크에서 불러와도 됩니다.\n",
        "import pandas as pd\n",
        "df = pd.read_csv('https://ds-lecture-data.s3.ap-northeast-2.amazonaws.com/kc_house_data/kc_house_data.csv')\n"
      ],
      "outputs": [],
      "metadata": {
        "id": "Wb4PRRj4WQLe"
      }
    },
    {
      "cell_type": "code",
      "execution_count": null,
      "source": [
        "df.columns"
      ],
      "outputs": [
        {
          "output_type": "execute_result",
          "data": {
            "text/plain": [
              "Index(['id', 'date', 'price', 'bedrooms', 'bathrooms', 'sqft_living',\n",
              "       'sqft_lot', 'floors', 'waterfront', 'view', 'condition', 'grade',\n",
              "       'sqft_above', 'sqft_basement', 'yr_built', 'yr_renovated', 'zipcode',\n",
              "       'lat', 'long', 'sqft_living15', 'sqft_lot15'],\n",
              "      dtype='object')"
            ]
          },
          "metadata": {},
          "execution_count": 2
        }
      ],
      "metadata": {
        "id": "bNjMc4THWQLg",
        "outputId": "d03deac3-c34e-4a7e-deef-9aac2535a159",
        "colab": {
          "base_uri": "https://localhost:8080/"
        }
      }
    },
    {
      "cell_type": "code",
      "source": [
        "df['date'].head()"
      ],
      "metadata": {
        "colab": {
          "base_uri": "https://localhost:8080/"
        },
        "id": "n1YvqpJQbuYZ",
        "outputId": "2613de97-3a5e-4eb8-cb57-712059319d4b"
      },
      "execution_count": 17,
      "outputs": [
        {
          "output_type": "execute_result",
          "data": {
            "text/plain": [
              "0    20141013T000000\n",
              "1    20141209T000000\n",
              "2    20150225T000000\n",
              "3    20141209T000000\n",
              "4    20150218T000000\n",
              "Name: date, dtype: object"
            ]
          },
          "metadata": {},
          "execution_count": 17
        }
      ]
    },
    {
      "cell_type": "markdown",
      "source": [
        "### 1) 데이터는 May 2014 ~ May 2015 의 2년치 데이터입니다. 2015-01-01 부터 큰 날짜의 데이터는 테스트, 그 이외의 데이터는 훈련 데이터셋으로 나누어 주세요\n",
        "- **(Urclass Quiz) 훈련데이터 샘플의 갯수를 제출하세요.**"
      ],
      "metadata": {
        "id": "264KQeDCWQLh"
      }
    },
    {
      "cell_type": "code",
      "execution_count": 36,
      "source": [
        "### 이곳에서 과제를 진행해 주세요 ###\n",
        "\n",
        "df_train = df[df['date'].str.contains('2014')]\n",
        "#df_test = df.drop(df_train.index)\n",
        "df_test = df[df['date'].str.contains('2015')]\n",
        "\n",
        "len(df_train)"
      ],
      "outputs": [
        {
          "output_type": "execute_result",
          "data": {
            "text/plain": [
              "14633"
            ]
          },
          "metadata": {},
          "execution_count": 36
        }
      ],
      "metadata": {
        "id": "HFJqaof0WQLh",
        "colab": {
          "base_uri": "https://localhost:8080/"
        },
        "outputId": "dd3a37fb-8573-48ad-c8ae-cf21bb3619a3"
      }
    },
    {
      "cell_type": "markdown",
      "source": [
        "### 2) 두 특성(bathrooms, sqft_living)을 사용해서 다중선형회귀 모델을 만들어 보세요\n",
        "- 학습시 Parameters는 모두 기본값으로 합니다.\n",
        "- 정규화(normalize) 등 추가적인 데이터처리 없이 진행합니다.\n",
        "- **(Urclass Quiz) 테스트세트의 MAE 값을 제출하세요.(소수점 이하 반올림)**"
      ],
      "metadata": {
        "id": "M3S9O5lyWQLi"
      }
    },
    {
      "cell_type": "code",
      "execution_count": 49,
      "source": [
        "### 이곳에서 과제를 진행해 주세요 ###\n",
        "from sklearn.linear_model import LinearRegression\n",
        "from sklearn.metrics import mean_absolute_error\n",
        "\n",
        "model = LinearRegression()\n",
        "\n",
        "features = ['bathrooms', \n",
        "            'sqft_living']\n",
        "target =['price']\n",
        "\n",
        "X_train = df_train[features]\n",
        "y_train = df_train[target]\n",
        "\n",
        "#Train error\n",
        "model.fit(X_train, y_train)\n",
        "y_train_pred = model.predict(X_train)\n",
        "mae = mean_absolute_error(y_train, y_train_pred)\n",
        "\n",
        "print(mae)"
      ],
      "outputs": [
        {
          "output_type": "stream",
          "name": "stdout",
          "text": [
            "170777.34212565765\n"
          ]
        }
      ],
      "metadata": {
        "id": "ibRBWv-tWQLj",
        "colab": {
          "base_uri": "https://localhost:8080/"
        },
        "outputId": "7f85aab3-8a11-4784-b363-35bfec5ee245"
      }
    },
    {
      "cell_type": "code",
      "source": [
        "#Test error\n",
        "X_test = df_test[features]\n",
        "y_test = df_test[target]\n",
        "\n",
        "y_test_pred = model.predict(X_test)\n",
        "mae = mean_absolute_error(y_test, y_test_pred)\n",
        "\n",
        "print(round(float(mae)))"
      ],
      "metadata": {
        "colab": {
          "base_uri": "https://localhost:8080/"
        },
        "id": "kY6WGOvxhojl",
        "outputId": "8afd3491-ddb0-46d3-a69b-2e089421b31d"
      },
      "execution_count": 50,
      "outputs": [
        {
          "output_type": "stream",
          "name": "stdout",
          "text": [
            "179253\n"
          ]
        }
      ]
    },
    {
      "cell_type": "markdown",
      "source": [
        "### 3) 모델의 회귀계수(coefficients)와 절편(intercept)을 확인해 보세요.\n",
        "- **(Urclass Quiz) sqft_living의 회귀계수를 제출하세요.(소수점 이하 반올림)**"
      ],
      "metadata": {
        "id": "s6z6FTmLWQLj"
      }
    },
    {
      "cell_type": "code",
      "source": [
        "model.intercept_, model.coef_"
      ],
      "metadata": {
        "colab": {
          "base_uri": "https://localhost:8080/"
        },
        "id": "dh6UvDoXmfJR",
        "outputId": "edf0934e-7008-4d81-f1eb-61b368412dcf"
      },
      "execution_count": 57,
      "outputs": [
        {
          "output_type": "execute_result",
          "data": {
            "text/plain": [
              "(array([-50243.5627964]), array([[-5158.92591411,   286.13753555]]))"
            ]
          },
          "metadata": {},
          "execution_count": 57
        }
      ]
    },
    {
      "cell_type": "markdown",
      "source": [
        "### 4) MSE, MAE, RMSE, $R^2$ 를 훈련/테스트 데이터에 대해 확인해 보세요\n",
        "- **(Urclass Quiz) 테스트 데이터에 대한 MSE, MAE, RMSE, $R^2$ 값을 올바르게 적은 보기를 고르세요.(소수점 두자리수 이하 반올림)**"
      ],
      "metadata": {
        "id": "ST0HtUv1WQLk"
      }
    },
    {
      "cell_type": "code",
      "execution_count": 61,
      "source": [
        "### 이곳에서 과제를 진행해 주세요 ###\n",
        "from sklearn.metrics import r2_score\n",
        "R2_Train = r2_score(y_train, y_train_pred)\n",
        "R2_Test = r2_score(y_test, y_test_pred)\n",
        "print(f'Train Data R2: {R2_Train:.2f}')\n",
        "print(f'Test Data R2: {R2_Test:.2f}')\n"
      ],
      "outputs": [
        {
          "output_type": "stream",
          "name": "stdout",
          "text": [
            "Train Data R2: 0.51\n",
            "Test Data R2: 0.46\n"
          ]
        }
      ],
      "metadata": {
        "id": "ANKWOJZRWQLl",
        "colab": {
          "base_uri": "https://localhost:8080/"
        },
        "outputId": "7537c983-9e57-4088-c5c6-c8ad19de9844"
      }
    },
    {
      "cell_type": "code",
      "source": [
        "from sklearn.metrics import mean_squared_error \n",
        "Mse_Train= mean_squared_error(y_train, y_train_pred)\n",
        "Mse_Test= mean_squared_error(y_test, y_test_pred)\n",
        "print(f'Train Data MSE: {Mse_Train:.2f}')\n",
        "print(f'Test Data MSE: {Mse_Test:.2f}')"
      ],
      "metadata": {
        "colab": {
          "base_uri": "https://localhost:8080/"
        },
        "id": "uYqDYaP6omSJ",
        "outputId": "924cc435-3f5f-473a-958a-cbd90ea5e71e"
      },
      "execution_count": 62,
      "outputs": [
        {
          "output_type": "stream",
          "name": "stdout",
          "text": [
            "Train Data MSE: 67099053309.95\n",
            "Test Data MSE: 71083994178.76\n"
          ]
        }
      ]
    },
    {
      "cell_type": "code",
      "source": [
        "from sklearn.metrics import mean_squared_error \n",
        "import numpy as np\n",
        "Mse_Train= mean_squared_error(y_train, y_train_pred)\n",
        "Mse_Test= mean_squared_error(y_test, y_test_pred)\n",
        "print(f'Train Data RMSE: {np.sqrt(Mse_Train):.2f}')\n",
        "print(f'Test Data RMSE: {np.sqrt(Mse_Test):.2f}')"
      ],
      "metadata": {
        "colab": {
          "base_uri": "https://localhost:8080/"
        },
        "id": "KGOy-wugosOS",
        "outputId": "db62a106-61ca-4195-9d0c-48549a43f70d"
      },
      "execution_count": 63,
      "outputs": [
        {
          "output_type": "stream",
          "name": "stdout",
          "text": [
            "Train Data RMSE: 259034.85\n",
            "Test Data RMSE: 266615.82\n"
          ]
        }
      ]
    },
    {
      "cell_type": "markdown",
      "source": [
        "## 🔥도전과제(Github - Discussion)\n",
        "\n",
        "### 공지로 안내드리는 Github - Discussion 페이지에 올려 보세요:)"
      ],
      "metadata": {
        "id": "L-YSE0YLWQLl"
      }
    },
    {
      "cell_type": "markdown",
      "source": [
        "### 5)  EDA를 진행하시고, 두개 이상의 특성을 선택하여 특성공학(feature engineering)을 진행한 후 아래의 질문들에 대한 본인만의 리포트를 작성해보시고 서로 논해 보세요. \n",
        "- 어떤 이유에서 해당 특성공학을 진행하셨나요? 특성공학을 통해 기대하는 효과는 무엇이었나요? 만약 얻고자 하는 효과를 얻지 못했다면 이유는 무엇이며 어떤 액션을 추가할 수 있을까요? \n",
        "- 특성공학을 거친 특성을 포함해 다수의 특성을 사용한 모델을 학습하고 테스트 데이터에 대해 MSE, RMSE, MAE, R2 스코어는 어떠한가요? 해당 결과를 통해 얻을 수 있는 인사이트는 어떤 것이 있었나요? \n",
        "- 만들어진 회귀계수를 사용해 모델을 설명해 본다면? \n",
        "- 만들어진 모델은 과소적합인가요? 과대적합인가요? 일반화가 잘 된 모델을 만들기 위해 추가로 할 수 있는 액션은 어떤 것이 있을까요? \n",
        "\n",
        "※kaggle notebook에서도 힌트를 얻어 보세요. "
      ],
      "metadata": {
        "id": "AY75FyLFWQLl"
      }
    },
    {
      "cell_type": "code",
      "execution_count": null,
      "source": [
        ""
      ],
      "outputs": [],
      "metadata": {
        "id": "lA79hJdLWQLm"
      }
    },
    {
      "cell_type": "markdown",
      "source": [
        "## 참고자료\n",
        "* [Feature Engineering](https://en.wikipedia.org/wiki/Feature_engineering)\n",
        "* [\"A Few Useful Things to Know about Machine Learning\"](https://homes.cs.washington.edu/~pedrod/papers/cacm12.pdf)\n",
        "* [Machine Learning and AI via Brain simulations](https://forum.stanford.edu/events/2011/2011slides/plenary/2011plenaryNg.pdf)\n",
        "* [_An Introduction to Statistical Learning_](http://faculty.marshall.usc.edu/gareth-james/ISL/ISLR%20Seventh%20Printing.pdf),  Chapter 3.1, Simple Linear Regression, & Chapter 3.2, Multiple Linear Regression\n",
        "* [Brandon Foltz, Statistics 101: Simple Linear Regression](https://www.youtube.com/watch?v=ZkjP5RJLQF4)"
      ],
      "metadata": {
        "id": "ocwiCccwWQLm"
      }
    }
  ],
  "metadata": {
    "kernelspec": {
      "display_name": "Python 3",
      "language": "python",
      "name": "python3"
    },
    "language_info": {
      "codemirror_mode": {
        "name": "ipython",
        "version": 3
      },
      "file_extension": ".py",
      "mimetype": "text/x-python",
      "name": "python",
      "nbconvert_exporter": "python",
      "pygments_lexer": "ipython3",
      "version": "3.8.8"
    },
    "colab": {
      "name": "n212a-multiple-regression.ipynb",
      "provenance": [],
      "collapsed_sections": [],
      "include_colab_link": true
    }
  },
  "nbformat": 4,
  "nbformat_minor": 0
}